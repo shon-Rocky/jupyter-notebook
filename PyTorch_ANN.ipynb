{
  "nbformat": 4,
  "nbformat_minor": 0,
  "metadata": {
    "colab": {
      "provenance": [],
      "gpuType": "T4",
      "authorship_tag": "ABX9TyOtXyGiI8oUgwlJOBdBOjff",
      "include_colab_link": true
    },
    "kernelspec": {
      "name": "python3",
      "display_name": "Python 3"
    },
    "language_info": {
      "name": "python"
    },
    "accelerator": "GPU"
  },
  "cells": [
    {
      "cell_type": "markdown",
      "metadata": {
        "id": "view-in-github",
        "colab_type": "text"
      },
      "source": [
        "<a href=\"https://colab.research.google.com/github/shon-Rocky/jupyter-notebook/blob/main/PyTorch_ANN.ipynb\" target=\"_parent\"><img src=\"https://colab.research.google.com/assets/colab-badge.svg\" alt=\"Open In Colab\"/></a>"
      ]
    },
    {
      "cell_type": "code",
      "execution_count": 40,
      "metadata": {
        "id": "h4GRBNsbpGjV"
      },
      "outputs": [],
      "source": [
        "import torch\n",
        "from torch import nn\n",
        "from torch.utils.data import DataLoader\n",
        "from torchvision import datasets\n",
        "from torchvision.transforms import ToTensor"
      ]
    },
    {
      "cell_type": "code",
      "source": [
        "# Download training data from open datasets.\n",
        "training_data = datasets.FashionMNIST(\n",
        "    root=\"data\",\n",
        "    train=True,\n",
        "    download=True,\n",
        "    transform=ToTensor(),\n",
        ")\n",
        "\n",
        "# Download test data from open datasets.\n",
        "test_data = datasets.FashionMNIST(\n",
        "    root=\"data\",\n",
        "    train=False,\n",
        "    download=True,\n",
        "    transform=ToTensor(),\n",
        ")"
      ],
      "metadata": {
        "id": "Uz-Ex2IZpjv2"
      },
      "execution_count": 41,
      "outputs": []
    },
    {
      "cell_type": "code",
      "source": [
        "batch_size = 64\n",
        "\n",
        "# Create data loaders.\n",
        "train_dataloader = DataLoader(training_data, batch_size=batch_size)\n",
        "test_dataloader = DataLoader(test_data, batch_size=batch_size)\n",
        "\n",
        "for X, y in test_dataloader:\n",
        "    print(f\"Shape of X [N, C, H, W]: {X.shape}\")\n",
        "    print(f\"Shape of y: {y.shape} {y.dtype}\")\n",
        "    break"
      ],
      "metadata": {
        "colab": {
          "base_uri": "https://localhost:8080/"
        },
        "id": "8YpvHWyEpplE",
        "outputId": "13658722-ecd2-4398-893b-1d4799184a7d"
      },
      "execution_count": 42,
      "outputs": [
        {
          "output_type": "stream",
          "name": "stdout",
          "text": [
            "Shape of X [N, C, H, W]: torch.Size([64, 1, 28, 28])\n",
            "Shape of y: torch.Size([64]) torch.int64\n"
          ]
        }
      ]
    },
    {
      "cell_type": "code",
      "source": [
        "# Get cpu, gpu or mps device for training.\n",
        "device = (\n",
        "    \"cuda\"\n",
        "    if torch.cuda.is_available()\n",
        "    else \"mps\"\n",
        "    if torch.backends.mps.is_available()\n",
        "    else \"cpu\"\n",
        ")\n",
        "print(f\"Using {device} device\")"
      ],
      "metadata": {
        "colab": {
          "base_uri": "https://localhost:8080/"
        },
        "id": "LhC2fV93pvxr",
        "outputId": "bd097e32-5c54-497f-dcd0-341f9e63d823"
      },
      "execution_count": 43,
      "outputs": [
        {
          "output_type": "stream",
          "name": "stdout",
          "text": [
            "Using cuda device\n"
          ]
        }
      ]
    },
    {
      "cell_type": "markdown",
      "source": [
        "## Creating Models"
      ],
      "metadata": {
        "id": "LL2aGAMdr4LG"
      }
    },
    {
      "cell_type": "markdown",
      "source": [],
      "metadata": {
        "id": "kdqAbi6Cr3yV"
      }
    },
    {
      "cell_type": "code",
      "source": [
        "class NeuralNetwork(nn.Module):\n",
        "  def __init__(self) -> None:\n",
        "     super().__init__()\n",
        "     self.flatten = nn.Flatten()\n",
        "     self.liner_relu_stack = nn.Sequential(\n",
        "         nn.Linear(28*28, 512),\n",
        "         nn.ReLU(),\n",
        "         nn.Linear(512, 256),\n",
        "         nn.ReLU(),\n",
        "         nn.Linear(256, 10)# ouptut should be 10 because our data has 10 target\n",
        "     )\n",
        "\n",
        "  def forward(self, x):\n",
        "        x = self.flatten(x)\n",
        "        logits = self.liner_relu_stack(x)\n",
        "        return logits\n",
        "\n",
        "model = NeuralNetwork().to(device)\n",
        "print(model)"
      ],
      "metadata": {
        "colab": {
          "base_uri": "https://localhost:8080/"
        },
        "id": "aWfQrgkJp2Zo",
        "outputId": "7f5fadfc-045c-47ac-c0f8-ac1423fbcd60"
      },
      "execution_count": 44,
      "outputs": [
        {
          "output_type": "stream",
          "name": "stdout",
          "text": [
            "NeuralNetwork(\n",
            "  (flatten): Flatten(start_dim=1, end_dim=-1)\n",
            "  (liner_relu_stack): Sequential(\n",
            "    (0): Linear(in_features=784, out_features=512, bias=True)\n",
            "    (1): ReLU()\n",
            "    (2): Linear(in_features=512, out_features=256, bias=True)\n",
            "    (3): ReLU()\n",
            "    (4): Linear(in_features=256, out_features=10, bias=True)\n",
            "  )\n",
            ")\n"
          ]
        }
      ]
    },
    {
      "cell_type": "markdown",
      "source": [
        "## Optimizing the Model Parameters"
      ],
      "metadata": {
        "id": "ihHhNxg5sIa1"
      }
    },
    {
      "cell_type": "code",
      "source": [
        "loss_fn = nn.CrossEntropyLoss()\n",
        "optimizer = torch.optim.SGD(model.parameters(), lr=1e-3)"
      ],
      "metadata": {
        "id": "J_ZXP_3OrniS"
      },
      "execution_count": 45,
      "outputs": []
    },
    {
      "cell_type": "code",
      "source": [
        "def train(dataloader, model, loss_fn, optimizer):\n",
        "  size = len(dataloader.dataset)\n",
        "  model.train()\n",
        "  for batch, (X, y) in enumerate(dataloader):\n",
        "    X, y = X.to(device), y.to(device)\n",
        "\n",
        "    # compute prediction\n",
        "\n",
        "    pred = model(X)\n",
        "    loss = loss_fn(pred, y)\n",
        "\n",
        "    # Back propagation\n",
        "\n",
        "    loss.backward()\n",
        "    optimizer.step()\n",
        "    optimizer.zero_grad()\n",
        "\n",
        "    if batch % 100 == 0:\n",
        "        loss, current = loss.item(), (batch + 1) * len(X)\n",
        "        print(f\"loss: {loss:>7f}  [{current:>5d}/{size:>5d}]\")"
      ],
      "metadata": {
        "id": "_8fRBjbzsKod"
      },
      "execution_count": 46,
      "outputs": []
    },
    {
      "cell_type": "code",
      "source": [
        "def test(dataloader, model, loss_fn):\n",
        "  size = len(dataloader.dataset)\n",
        "  model.eval()\n",
        "  test_loss, correct = 0, 0\n",
        "  with torch.no_grad():\n",
        "    for X, y in dataloader:\n",
        "      X, y = X.to(device), y.to(device)\n",
        "      pred = model(X)\n",
        "      test_loss += loss_fn(pred, y).item()\n",
        "      correct += (pred.argmax(1) == y).type(torch.float).sum().item()\n",
        "  test_loss /= num_batches\n",
        "  correct /= size\n",
        "  print(f\"Test Error: \\n Accuracy: {(100*correct):>0.1f}%, Avg loss: {test_loss:>8f} \\n\")"
      ],
      "metadata": {
        "id": "GgVUxy4hwyYV"
      },
      "execution_count": 49,
      "outputs": []
    },
    {
      "cell_type": "code",
      "source": [
        "epochs = 5\n",
        "for t in range(epochs):\n",
        "    print(f\"Epoch {t+1}\\n-------------------------------\")\n",
        "    train(train_dataloader, model, loss_fn, optimizer)\n",
        "    test(test_dataloader, model, loss_fn)\n",
        "print(\"Done!\")"
      ],
      "metadata": {
        "colab": {
          "base_uri": "https://localhost:8080/"
        },
        "id": "E9cJZQkAxYrP",
        "outputId": "a85f44ff-58c7-48d0-b5e1-3764e326bd12"
      },
      "execution_count": 50,
      "outputs": [
        {
          "output_type": "stream",
          "name": "stdout",
          "text": [
            "Epoch 1\n",
            "-------------------------------\n",
            "loss: 2.181779  [   64/60000]\n",
            "loss: 2.171009  [ 6464/60000]\n",
            "loss: 2.111542  [12864/60000]\n",
            "loss: 2.111809  [19264/60000]\n",
            "loss: 2.085314  [25664/60000]\n",
            "loss: 2.024649  [32064/60000]\n",
            "loss: 2.043134  [38464/60000]\n",
            "loss: 1.975408  [44864/60000]\n",
            "loss: 1.988089  [51264/60000]\n",
            "loss: 1.904521  [57664/60000]\n",
            "Test Error: \n",
            " Accuracy: 55.0%, Avg loss: 4.683289 \n",
            "\n",
            "Epoch 2\n",
            "-------------------------------\n",
            "loss: 1.957507  [   64/60000]\n",
            "loss: 1.928560  [ 6464/60000]\n",
            "loss: 1.816245  [12864/60000]\n",
            "loss: 1.827615  [19264/60000]\n",
            "loss: 1.754884  [25664/60000]\n",
            "loss: 1.702651  [32064/60000]\n",
            "loss: 1.705331  [38464/60000]\n",
            "loss: 1.616884  [44864/60000]\n",
            "loss: 1.645984  [51264/60000]\n",
            "loss: 1.525357  [57664/60000]\n",
            "Test Error: \n",
            " Accuracy: 57.8%, Avg loss: 3.795689 \n",
            "\n",
            "Epoch 3\n",
            "-------------------------------\n",
            "loss: 1.630552  [   64/60000]\n",
            "loss: 1.590526  [ 6464/60000]\n",
            "loss: 1.441956  [12864/60000]\n",
            "loss: 1.484720  [19264/60000]\n",
            "loss: 1.392024  [25664/60000]\n",
            "loss: 1.383216  [32064/60000]\n",
            "loss: 1.385509  [38464/60000]\n",
            "loss: 1.312297  [44864/60000]\n",
            "loss: 1.353846  [51264/60000]\n",
            "loss: 1.245898  [57664/60000]\n",
            "Test Error: \n",
            " Accuracy: 61.4%, Avg loss: 3.120037 \n",
            "\n",
            "Epoch 4\n",
            "-------------------------------\n",
            "loss: 1.360517  [   64/60000]\n",
            "loss: 1.340539  [ 6464/60000]\n",
            "loss: 1.174686  [12864/60000]\n",
            "loss: 1.256974  [19264/60000]\n",
            "loss: 1.148225  [25664/60000]\n",
            "loss: 1.175377  [32064/60000]\n",
            "loss: 1.189658  [38464/60000]\n",
            "loss: 1.126682  [44864/60000]\n",
            "loss: 1.167453  [51264/60000]\n",
            "loss: 1.086663  [57664/60000]\n",
            "Test Error: \n",
            " Accuracy: 63.6%, Avg loss: 2.706029 \n",
            "\n",
            "Epoch 5\n",
            "-------------------------------\n",
            "loss: 1.179076  [   64/60000]\n",
            "loss: 1.184907  [ 6464/60000]\n",
            "loss: 1.002594  [12864/60000]\n",
            "loss: 1.118816  [19264/60000]\n",
            "loss: 0.999026  [25664/60000]\n",
            "loss: 1.038521  [32064/60000]\n",
            "loss: 1.070151  [38464/60000]\n",
            "loss: 1.011319  [44864/60000]\n",
            "loss: 1.048743  [51264/60000]\n",
            "loss: 0.988158  [57664/60000]\n",
            "Test Error: \n",
            " Accuracy: 64.8%, Avg loss: 2.443458 \n",
            "\n",
            "Done!\n"
          ]
        }
      ]
    },
    {
      "cell_type": "markdown",
      "source": [
        "## Saving Models"
      ],
      "metadata": {
        "id": "_r48Pe8S0LwS"
      }
    },
    {
      "cell_type": "code",
      "source": [
        "torch.save(model.state_dict(), \"model.pth\")\n",
        "print(\"Saved PyTorch Model State to model.pth\")"
      ],
      "metadata": {
        "colab": {
          "base_uri": "https://localhost:8080/"
        },
        "id": "UtLccHqJzRBF",
        "outputId": "29c650c0-3c94-437a-b16f-2bb6a794c980"
      },
      "execution_count": 51,
      "outputs": [
        {
          "output_type": "stream",
          "name": "stdout",
          "text": [
            "Saved PyTorch Model State to model.pth\n"
          ]
        }
      ]
    },
    {
      "cell_type": "markdown",
      "source": [
        "## Loading Models"
      ],
      "metadata": {
        "id": "NjLIAIbC0U7z"
      }
    },
    {
      "cell_type": "code",
      "source": [
        "model = NeuralNetwork().to(device)\n",
        "model.load_state_dict(torch.load(\"model.pth\"))"
      ],
      "metadata": {
        "colab": {
          "base_uri": "https://localhost:8080/"
        },
        "id": "YlvdlnV60OXm",
        "outputId": "cf107eb7-70fe-4761-dca1-c4820037aac8"
      },
      "execution_count": 52,
      "outputs": [
        {
          "output_type": "execute_result",
          "data": {
            "text/plain": [
              "<All keys matched successfully>"
            ]
          },
          "metadata": {},
          "execution_count": 52
        }
      ]
    },
    {
      "cell_type": "code",
      "source": [
        "classes = [\n",
        "    \"T-shirt/top\",\n",
        "    \"Trouser\",\n",
        "    \"Pullover\",\n",
        "    \"Dress\",\n",
        "    \"Coat\",\n",
        "    \"Sandal\",\n",
        "    \"Shirt\",\n",
        "    \"Sneaker\",\n",
        "    \"Bag\",\n",
        "    \"Ankle boot\",\n",
        "]\n",
        "\n",
        "model.eval()\n",
        "x, y = test_data[0][0], test_data[0][1]\n",
        "with torch.no_grad():\n",
        "    x = x.to(device)\n",
        "    pred = model(x)\n",
        "    predicted, actual = classes[pred[0].argmax(0)], classes[y]\n",
        "    print(f'Predicted: \"{predicted}\", Actual: \"{actual}\"')"
      ],
      "metadata": {
        "colab": {
          "base_uri": "https://localhost:8080/"
        },
        "id": "mwwuZDG70XBo",
        "outputId": "a8898ef3-cb57-410e-9811-d0b715174508"
      },
      "execution_count": 53,
      "outputs": [
        {
          "output_type": "stream",
          "name": "stdout",
          "text": [
            "Predicted: \"Ankle boot\", Actual: \"Ankle boot\"\n"
          ]
        }
      ]
    },
    {
      "cell_type": "code",
      "source": [],
      "metadata": {
        "id": "kKtvHbkl0Y7D"
      },
      "execution_count": null,
      "outputs": []
    }
  ]
}